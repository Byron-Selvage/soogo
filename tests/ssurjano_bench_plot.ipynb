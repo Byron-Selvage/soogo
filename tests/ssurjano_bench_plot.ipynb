{
 "cells": [
  {
   "cell_type": "code",
   "execution_count": null,
   "metadata": {},
   "outputs": [],
   "source": [
    "import matplotlib.pyplot as plt\n",
    "import numpy as np\n",
    "import pickle\n",
    "from test_ssurjano_bench import *\n",
    "\n",
    "\n",
    "# myRfuncs = (\"branin\", \"hart3\", \"hart6\", \"shekel\", \"ackley\", \"levy\", \"powell\")\n",
    "\n",
    "myRfuncs = (\"branin\",\"hart3\",\"hart6\",\"shekel\",\"ackley\")\n",
    "algorithms = (\"SRS\",\"DYCORS\",\"CPTVI\")\n",
    "\n",
    "# myRfuncs = (\"branin\",\"hart3\",\"hart6\",\"shekel\")\n",
    "# algorithms = (\"SRS\",\"DYCORS\",\"MLSL\",\"CPTVI\")\n",
    "\n",
    "myNargs = {}\n",
    "maxEvals = {}\n",
    "nTrials = 0\n",
    "rtol = 0\n",
    "optres = {}"
   ]
  },
  {
   "cell_type": "code",
   "execution_count": null,
   "metadata": {},
   "outputs": [],
   "source": [
    "for a in algorithms:\n",
    "    optres[a] = {}\n",
    "    for rFunc in myRfuncs:\n",
    "        myNargs[rFunc] = 0\n",
    "        maxEvals[rFunc] = 0\n",
    "        optres[a][rFunc] = []\n",
    "        with open(\"ssurjano_bench_plot_\" + rFunc + \"_\" + a + \".pkl\", \"rb\") as f:\n",
    "            myNargs[rFunc], maxEvals[rFunc], nTrials, optres[a][rFunc] = pickle.load(f)"
   ]
  },
  {
   "cell_type": "code",
   "execution_count": null,
   "metadata": {},
   "outputs": [],
   "source": [
    "# func = \"shekel\"\n",
    "# print([optres[\"CPTVI\"][func][i].x for i in range(nTrials)])\n",
    "# print([optres[\"CPTVI\"][func][i].fx for i in range(nTrials)])\n",
    "\n",
    "# print([np.minimum.accumulate(optres[\"CPTVI\"][func][i].fsamples).tolist() for i in range(nTrials)])\n",
    "# print(np.array([np.minimum.accumulate(optres[\"CPTVI\"][func][i].fsamples).tolist() for i in range(nTrials)]))"
   ]
  },
  {
   "cell_type": "code",
   "execution_count": null,
   "metadata": {},
   "outputs": [],
   "source": [
    "avgBestVals = {}\n",
    "for a in algorithms:\n",
    "    avgBestVals[a] = {}\n",
    "    for rFunc in myRfuncs:\n",
    "        avgBestVals[a][rFunc] = np.mean(np.array([np.minimum.accumulate(optres[a][rFunc][i].fsamples).tolist() for i in range(nTrials)]), axis=0)\n",
    "\n",
    "for rFunc in myRfuncs:\n",
    "    for a in algorithms:\n",
    "        plt.plot(avgBestVals[a][rFunc], label=a)\n",
    "    plt.legend()\n",
    "    plt.show()"
   ]
  },
  {
   "cell_type": "code",
   "execution_count": null,
   "metadata": {},
   "outputs": [],
   "source": [
    "rtau = 1e-2\n",
    "atau = 1e-3\n",
    "minVal = 1.0\n",
    "\n",
    "lpa = {}\n",
    "for a in algorithms:\n",
    "    lpa[a] = {}\n",
    "    for rFunc in myRfuncs:\n",
    "        count = 0\n",
    "        while count < len(avgBestVals[a][rFunc]):\n",
    "            if avgBestVals[a][rFunc][count] - minVal <= rtau * abs(minVal):\n",
    "                break\n",
    "            else:\n",
    "                count += 1\n",
    "        lpa[a][rFunc] = count+1\n",
    "\n",
    "maxKappa = 100\n",
    "delta = {}\n",
    "for a in algorithms:\n",
    "    delta[a] = np.zeros(maxKappa+1)\n",
    "    for k in range(1,maxKappa+1):\n",
    "        count = 0\n",
    "        for rFunc in myRfuncs:\n",
    "            if lpa[a][rFunc]/(myNargs[rFunc]+1) <= k:\n",
    "                count += 1\n",
    "        delta[a][k] = count / len(myRfuncs)"
   ]
  },
  {
   "cell_type": "code",
   "execution_count": null,
   "metadata": {},
   "outputs": [],
   "source": [
    "for a in algorithms:\n",
    "    plt.step(np.arange(0,maxKappa+1), delta[a], where='post', label=a)\n",
    "plt.xlabel(r'Number of simplex gradients, $\\kappa$')\n",
    "plt.xticks(range(0,101,5))\n",
    "plt.ylabel(r'$\\delta_a(\\kappa)$')\n",
    "plt.legend()\n",
    "plt.show()"
   ]
  },
  {
   "cell_type": "code",
   "execution_count": null,
   "metadata": {},
   "outputs": [],
   "source": [
    "# avgBestVals[\"SRS\"][\"ackley\"]\n",
    "lpa[\"SRS\"][\"ackley\"]/(myNargs[\"ackley\"]+1)"
   ]
  },
  {
   "cell_type": "code",
   "execution_count": null,
   "metadata": {},
   "outputs": [],
   "source": []
  }
 ],
 "metadata": {
  "kernelspec": {
   "display_name": ".venv",
   "language": "python",
   "name": "python3"
  },
  "language_info": {
   "codemirror_mode": {
    "name": "ipython",
    "version": 3
   },
   "file_extension": ".py",
   "mimetype": "text/x-python",
   "name": "python",
   "nbconvert_exporter": "python",
   "pygments_lexer": "ipython3",
   "version": "3.12.2"
  }
 },
 "nbformat": 4,
 "nbformat_minor": 2
}
